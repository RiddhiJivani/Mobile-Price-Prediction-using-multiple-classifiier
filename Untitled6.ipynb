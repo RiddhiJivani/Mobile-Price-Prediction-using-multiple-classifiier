{
 "cells": [
  {
   "cell_type": "code",
   "execution_count": 99,
   "metadata": {},
   "outputs": [],
   "source": [
    "import numpy as np\n",
    "import pandas as pd\n",
    "from sklearn.model_selection import train_test_split"
   ]
  },
  {
   "cell_type": "code",
   "execution_count": 100,
   "metadata": {},
   "outputs": [],
   "source": [
    "train_set=pd.read_csv(\"train.csv\")\n",
    "test_set=pd.read_csv(\"test.csv\")\n",
    "#print(train_set)\n",
    "#print(train_set.shape)"
   ]
  },
  {
   "cell_type": "code",
   "execution_count": 101,
   "metadata": {},
   "outputs": [],
   "source": [
    "#from sklearn.preprocessing import StandardScaler"
   ]
  },
  {
   "cell_type": "code",
   "execution_count": 102,
   "metadata": {},
   "outputs": [],
   "source": [
    "train_set_1=train_set.iloc[:,0:20]\n",
    "train_set_2=train_set.iloc[:,-1]\n",
    "#print(train_set_1)\n",
    "x_train,x_val,y_train,y_val=train_test_split(train_set_1,train_set_2,test_size=0.25,random_state=0)\n",
    "#print(y_train.shape)"
   ]
  },
  {
   "cell_type": "code",
   "execution_count": 103,
   "metadata": {},
   "outputs": [],
   "source": [
    "#sc = StandardScaler()\n",
    "#x_train = sc.fit_transform(x_train)\n",
    "#print(x_train.shape)\n",
    "#x_val = sc.transform(x_val)"
   ]
  },
  {
   "cell_type": "code",
   "execution_count": 104,
   "metadata": {},
   "outputs": [
    {
     "data": {
      "text/plain": [
       "DecisionTreeClassifier(ccp_alpha=0.0, class_weight=None, criterion='gini',\n",
       "                       max_depth=None, max_features=None, max_leaf_nodes=None,\n",
       "                       min_impurity_decrease=0.0, min_impurity_split=None,\n",
       "                       min_samples_leaf=1, min_samples_split=2,\n",
       "                       min_weight_fraction_leaf=0.0, presort='deprecated',\n",
       "                       random_state=None, splitter='best')"
      ]
     },
     "execution_count": 104,
     "metadata": {},
     "output_type": "execute_result"
    }
   ],
   "source": [
    "from sklearn.tree import DecisionTreeClassifier\n",
    "classifier = DecisionTreeClassifier()\n",
    "classifier.fit(x_train, y_train)"
   ]
  },
  {
   "cell_type": "code",
   "execution_count": 105,
   "metadata": {},
   "outputs": [],
   "source": [
    "y_pred = classifier.predict(x_val)"
   ]
  },
  {
   "cell_type": "code",
   "execution_count": 106,
   "metadata": {},
   "outputs": [
    {
     "name": "stdout",
     "output_type": "stream",
     "text": [
      "0.812\n"
     ]
    }
   ],
   "source": [
    "from sklearn.metrics import confusion_matrix\n",
    "cm = confusion_matrix(y_val, y_pred)\n",
    "from sklearn.metrics import accuracy_score,classification_report\n",
    "accuracy=accuracy_score(y_val, y_pred)\n",
    "print(accuracy)"
   ]
  },
  {
   "cell_type": "code",
   "execution_count": 98,
   "metadata": {},
   "outputs": [
    {
     "name": "stdout",
     "output_type": "stream",
     "text": [
      "[3 3 2 3 1 3 3 1 3 0 3 3 0 0 2 0 2 1 3 2 0 3 1 1 3 0 2 0 2 0 2 0 3 0 0 1 3\n",
      " 1 2 1 1 2 0 0 0 1 1 3 1 2 1 0 3 0 3 1 3 1 1 3 3 2 0 1 1 1 1 3 1 2 1 2 2 3\n",
      " 3 0 2 0 2 3 0 3 3 0 3 0 2 1 3 0 1 2 3 1 2 2 0 2 1 3 1 0 0 3 0 2 0 1 2 3 3\n",
      " 2 1 3 3 3 3 2 3 0 0 2 2 1 1 1 3 2 3 2 0 2 1 1 3 0 2 0 3 2 1 3 1 3 2 3 3 2\n",
      " 2 3 2 3 0 0 2 2 3 3 3 2 2 2 3 3 3 3 1 0 3 0 0 0 2 1 0 1 0 0 1 2 1 0 0 0 1\n",
      " 2 2 1 0 0 0 1 0 3 2 1 2 2 3 2 1 2 3 2 3 2 2 0 0 0 1 3 0 3 3 3 0 2 0 3 2 2\n",
      " 3 1 0 1 0 2 1 1 0 2 2 1 2 0 2 0 3 1 2 0 0 2 1 3 3 3 2 1 3 0 0 3 2 3 1 3 1\n",
      " 0 3 2 1 2 3 3 3 1 0 0 2 2 1 1 3 2 0 3 0 1 2 0 0 3 2 3 3 2 1 3 3 2 3 2 3 0\n",
      " 2 0 3 3 1 0 0 3 0 3 0 1 2 0 2 2 1 3 2 2 1 3 0 0 0 1 3 2 0 0 0 2 2 0 3 3 1\n",
      " 2 3 2 3 1 3 3 2 2 3 3 3 0 3 1 3 1 3 1 3 3 0 1 1 3 1 3 2 3 0 0 0 0 2 0 0 2\n",
      " 1 1 1 3 2 0 1 0 0 3 3 1 3 1 2 2 1 2 3 1 1 3 2 1 2 0 1 1 0 3 2 1 0 1 0 0 1\n",
      " 0 0 0 0 2 2 3 1 3 0 2 0 3 0 2 1 1 2 0 3 3 3 3 1 3 2 2 1 3 2 1 1 2 2 2 0 0\n",
      " 0 1 2 1 0 2 2 0 2 2 0 0 3 0 2 0 3 3 3 1 3 0 2 3 3 3 0 2 0 2 1 1 1 2 0 0 1\n",
      " 1 1 3 3 3 2 3 1 2 2 3 3 3 2 1 2 1 2 2 1 0 2 2 0 0 0 3 1 1 2 2 3 0 3 0 2 3\n",
      " 0 3 0 2 3 1 1 1 3 3 1 1 2 3 2 0 3 1 2 0 3 3 1 3 2 2 3 0 1 2 3 1 3 2 3 1 0\n",
      " 1 1 3 1 0 3 2 3 2 0 2 3 3 3 3 3 1 1 1 2 2 3 1 0 1 1 2 2 1 0 0 2 2 3 3 0 3\n",
      " 1 3 3 0 1 3 1 3 0 0 0 0 2 0 0 1 1 2 2 0 2 3 1 0 3 0 0 3 2 0 0 0 0 1 3 0 3\n",
      " 0 3 1 1 3 3 0 1 0 3 1 2 2 0 2 0 2 0 2 0 1 1 1 1 2 1 3 1 3 2 2 1 3 3 0 2 2\n",
      " 0 3 3 0 2 1 1 2 0 3 2 0 3 2 3 0 0 3 0 1 2 3 2 2 2 2 1 2 3 0 1 1 2 3 1 0 0\n",
      " 1 0 0 3 0 1 1 0 1 1 1 3 0 3 2 3 0 0 1 2 1 1 0 1 2 0 1 1 0 0 3 3 1 3 1 1 3\n",
      " 0 1 0 2 2 0 3 1 0 3 1 1 0 3 3 3 2 3 0 3 2 0 1 0 2 3 2 0 2 2 2 0 0 3 2 1 3\n",
      " 1 2 1 1 1 3 1 1 1 2 0 0 1 2 0 3 0 0 0 0 2 3 3 3 1 1 1 2 1 0 0 2 1 0 2 0 2\n",
      " 2 2 1 1 0 2 0 3 0 0 3 1 3 0 0 2 3 2 1 2 2 1 0 0 3 3 0 3 0 0 0 2 2 1 2 0 3\n",
      " 2 1 2 3 3 0 1 1 2 1 2 2 0 1 3 1 1 3 1 3 3 1 2 1 2 3 2 0 2 3 0 2 3 2 3 2 3\n",
      " 2 0 1 2 1 2 1 1 2 2 2 1 2 1 0 1 3 1 0 1 2 2 1 0 0 3 2 2 3 0 3 2 2 1 3 0 1\n",
      " 3 1 1 1 2 2 2 0 3 0 2 3 0 2 2 2 3 1 1 2 3 1 0 2 1 2 1 2 0 3 2 0 2 3 2 3 0\n",
      " 2 1 1 2 2 3 3 0 2 1 2 1 3 0 0 2 0 1 0 0 3 3 2 0 0 0 0 3 2 3 3 0 0 2 1 0 2\n",
      " 2]\n"
     ]
    }
   ],
   "source": [
    "y=classifier.predict(test_set)\n",
    "print(y)"
   ]
  },
  {
   "cell_type": "code",
   "execution_count": null,
   "metadata": {},
   "outputs": [],
   "source": []
  }
 ],
 "metadata": {
  "kernelspec": {
   "display_name": "Python 3",
   "language": "python",
   "name": "python3"
  },
  "language_info": {
   "codemirror_mode": {
    "name": "ipython",
    "version": 3
   },
   "file_extension": ".py",
   "mimetype": "text/x-python",
   "name": "python",
   "nbconvert_exporter": "python",
   "pygments_lexer": "ipython3",
   "version": "3.7.3"
  }
 },
 "nbformat": 4,
 "nbformat_minor": 4
}
